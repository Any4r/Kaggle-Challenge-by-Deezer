{
 "cells": [
  {
   "cell_type": "markdown",
   "metadata": {},
   "source": [
    "# 1. Preprocessing\n",
    "\n",
    "The \"surpirse\" package needs a specific layout of the datafile. We are using \"pandas\" to shape our original dataset into the form we need.\n",
    "\n",
    "user ; item ; rating ; [timestamp]"
   ]
  },
  {
   "cell_type": "code",
   "execution_count": 1,
   "metadata": {},
   "outputs": [],
   "source": [
    "import pandas as pd\n",
    "import numpy as np"
   ]
  },
  {
   "cell_type": "code",
   "execution_count": 2,
   "metadata": {},
   "outputs": [
    {
     "data": {
      "text/html": [
       "<div>\n",
       "<style scoped>\n",
       "    .dataframe tbody tr th:only-of-type {\n",
       "        vertical-align: middle;\n",
       "    }\n",
       "\n",
       "    .dataframe tbody tr th {\n",
       "        vertical-align: top;\n",
       "    }\n",
       "\n",
       "    .dataframe thead th {\n",
       "        text-align: right;\n",
       "    }\n",
       "</style>\n",
       "<table border=\"1\" class=\"dataframe\">\n",
       "  <thead>\n",
       "    <tr style=\"text-align: right;\">\n",
       "      <th></th>\n",
       "      <th>genre_id</th>\n",
       "      <th>ts_listen</th>\n",
       "      <th>media_id</th>\n",
       "      <th>album_id</th>\n",
       "      <th>context_type</th>\n",
       "      <th>release_date</th>\n",
       "      <th>platform_name</th>\n",
       "      <th>platform_family</th>\n",
       "      <th>media_duration</th>\n",
       "      <th>listen_type</th>\n",
       "      <th>user_gender</th>\n",
       "      <th>user_id</th>\n",
       "      <th>artist_id</th>\n",
       "      <th>user_age</th>\n",
       "      <th>is_listened</th>\n",
       "    </tr>\n",
       "  </thead>\n",
       "  <tbody>\n",
       "    <tr>\n",
       "      <th>0</th>\n",
       "      <td>25471</td>\n",
       "      <td>1480597215</td>\n",
       "      <td>222606</td>\n",
       "      <td>41774</td>\n",
       "      <td>12</td>\n",
       "      <td>20040704</td>\n",
       "      <td>1</td>\n",
       "      <td>0</td>\n",
       "      <td>223</td>\n",
       "      <td>0</td>\n",
       "      <td>0</td>\n",
       "      <td>9241</td>\n",
       "      <td>55164</td>\n",
       "      <td>29</td>\n",
       "      <td>0</td>\n",
       "    </tr>\n",
       "    <tr>\n",
       "      <th>1</th>\n",
       "      <td>25571</td>\n",
       "      <td>1480544735</td>\n",
       "      <td>250467</td>\n",
       "      <td>43941</td>\n",
       "      <td>0</td>\n",
       "      <td>20060301</td>\n",
       "      <td>2</td>\n",
       "      <td>1</td>\n",
       "      <td>171</td>\n",
       "      <td>0</td>\n",
       "      <td>0</td>\n",
       "      <td>16547</td>\n",
       "      <td>55830</td>\n",
       "      <td>30</td>\n",
       "      <td>1</td>\n",
       "    </tr>\n",
       "    <tr>\n",
       "      <th>2</th>\n",
       "      <td>16</td>\n",
       "      <td>1479563953</td>\n",
       "      <td>305197</td>\n",
       "      <td>48078</td>\n",
       "      <td>1</td>\n",
       "      <td>20140714</td>\n",
       "      <td>2</td>\n",
       "      <td>1</td>\n",
       "      <td>149</td>\n",
       "      <td>1</td>\n",
       "      <td>1</td>\n",
       "      <td>7665</td>\n",
       "      <td>2704</td>\n",
       "      <td>29</td>\n",
       "      <td>1</td>\n",
       "    </tr>\n",
       "    <tr>\n",
       "      <th>3</th>\n",
       "      <td>7</td>\n",
       "      <td>1480152098</td>\n",
       "      <td>900502</td>\n",
       "      <td>71521</td>\n",
       "      <td>0</td>\n",
       "      <td>20001030</td>\n",
       "      <td>0</td>\n",
       "      <td>0</td>\n",
       "      <td>240</td>\n",
       "      <td>0</td>\n",
       "      <td>1</td>\n",
       "      <td>1580</td>\n",
       "      <td>938</td>\n",
       "      <td>30</td>\n",
       "      <td>0</td>\n",
       "    </tr>\n",
       "    <tr>\n",
       "      <th>4</th>\n",
       "      <td>7</td>\n",
       "      <td>1478368974</td>\n",
       "      <td>542335</td>\n",
       "      <td>71718</td>\n",
       "      <td>0</td>\n",
       "      <td>20080215</td>\n",
       "      <td>0</td>\n",
       "      <td>0</td>\n",
       "      <td>150</td>\n",
       "      <td>0</td>\n",
       "      <td>1</td>\n",
       "      <td>1812</td>\n",
       "      <td>2939</td>\n",
       "      <td>24</td>\n",
       "      <td>1</td>\n",
       "    </tr>\n",
       "  </tbody>\n",
       "</table>\n",
       "</div>"
      ],
      "text/plain": [
       "   genre_id   ts_listen  media_id  album_id  context_type  release_date  \\\n",
       "0     25471  1480597215    222606     41774            12      20040704   \n",
       "1     25571  1480544735    250467     43941             0      20060301   \n",
       "2        16  1479563953    305197     48078             1      20140714   \n",
       "3         7  1480152098    900502     71521             0      20001030   \n",
       "4         7  1478368974    542335     71718             0      20080215   \n",
       "\n",
       "   platform_name  platform_family  media_duration  listen_type  user_gender  \\\n",
       "0              1                0             223            0            0   \n",
       "1              2                1             171            0            0   \n",
       "2              2                1             149            1            1   \n",
       "3              0                0             240            0            1   \n",
       "4              0                0             150            0            1   \n",
       "\n",
       "   user_id  artist_id  user_age  is_listened  \n",
       "0     9241      55164        29            0  \n",
       "1    16547      55830        30            1  \n",
       "2     7665       2704        29            1  \n",
       "3     1580        938        30            0  \n",
       "4     1812       2939        24            1  "
      ]
     },
     "execution_count": 2,
     "metadata": {},
     "output_type": "execute_result"
    }
   ],
   "source": [
    "data = pd.read_csv(\"train.csv\")\n",
    "data.head()"
   ]
  },
  {
   "cell_type": "code",
   "execution_count": 3,
   "metadata": {},
   "outputs": [],
   "source": [
    "df = data.copy()\n",
    "\n",
    "# create a mapping for media ids\n",
    "unique_media_ids = set(df[\"media_id\"].values)\n",
    "media2idx = {}\n",
    "count = 0\n",
    "for media_id in unique_media_ids:\n",
    "    media2idx[media_id] = count\n",
    "    count += 1\n",
    "\n",
    "# add them to the data frame\n",
    "df[\"media_idx\"] = df.apply(lambda row: media2idx[row[\"media_id\"]], axis=1)"
   ]
  },
  {
   "cell_type": "code",
   "execution_count": 4,
   "metadata": {},
   "outputs": [
    {
     "data": {
      "text/html": [
       "<div>\n",
       "<style scoped>\n",
       "    .dataframe tbody tr th:only-of-type {\n",
       "        vertical-align: middle;\n",
       "    }\n",
       "\n",
       "    .dataframe tbody tr th {\n",
       "        vertical-align: top;\n",
       "    }\n",
       "\n",
       "    .dataframe thead th {\n",
       "        text-align: right;\n",
       "    }\n",
       "</style>\n",
       "<table border=\"1\" class=\"dataframe\">\n",
       "  <thead>\n",
       "    <tr style=\"text-align: right;\">\n",
       "      <th></th>\n",
       "      <th>user_id</th>\n",
       "      <th>media_idx</th>\n",
       "      <th>is_listened</th>\n",
       "    </tr>\n",
       "  </thead>\n",
       "  <tbody>\n",
       "    <tr>\n",
       "      <th>0</th>\n",
       "      <td>9241</td>\n",
       "      <td>100003</td>\n",
       "      <td>0</td>\n",
       "    </tr>\n",
       "    <tr>\n",
       "      <th>1</th>\n",
       "      <td>16547</td>\n",
       "      <td>111381</td>\n",
       "      <td>1</td>\n",
       "    </tr>\n",
       "    <tr>\n",
       "      <th>2</th>\n",
       "      <td>7665</td>\n",
       "      <td>132806</td>\n",
       "      <td>1</td>\n",
       "    </tr>\n",
       "    <tr>\n",
       "      <th>3</th>\n",
       "      <td>1580</td>\n",
       "      <td>384690</td>\n",
       "      <td>0</td>\n",
       "    </tr>\n",
       "    <tr>\n",
       "      <th>4</th>\n",
       "      <td>1812</td>\n",
       "      <td>232521</td>\n",
       "      <td>1</td>\n",
       "    </tr>\n",
       "    <tr>\n",
       "      <th>...</th>\n",
       "      <td>...</td>\n",
       "      <td>...</td>\n",
       "      <td>...</td>\n",
       "    </tr>\n",
       "    <tr>\n",
       "      <th>7558829</th>\n",
       "      <td>2592</td>\n",
       "      <td>9859</td>\n",
       "      <td>0</td>\n",
       "    </tr>\n",
       "    <tr>\n",
       "      <th>7558830</th>\n",
       "      <td>9028</td>\n",
       "      <td>121136</td>\n",
       "      <td>0</td>\n",
       "    </tr>\n",
       "    <tr>\n",
       "      <th>7558831</th>\n",
       "      <td>393</td>\n",
       "      <td>143462</td>\n",
       "      <td>0</td>\n",
       "    </tr>\n",
       "    <tr>\n",
       "      <th>7558832</th>\n",
       "      <td>4507</td>\n",
       "      <td>143463</td>\n",
       "      <td>1</td>\n",
       "    </tr>\n",
       "    <tr>\n",
       "      <th>7558833</th>\n",
       "      <td>8129</td>\n",
       "      <td>170969</td>\n",
       "      <td>1</td>\n",
       "    </tr>\n",
       "  </tbody>\n",
       "</table>\n",
       "<p>7558834 rows × 3 columns</p>\n",
       "</div>"
      ],
      "text/plain": [
       "         user_id  media_idx  is_listened\n",
       "0           9241     100003            0\n",
       "1          16547     111381            1\n",
       "2           7665     132806            1\n",
       "3           1580     384690            0\n",
       "4           1812     232521            1\n",
       "...          ...        ...          ...\n",
       "7558829     2592       9859            0\n",
       "7558830     9028     121136            0\n",
       "7558831      393     143462            0\n",
       "7558832     4507     143463            1\n",
       "7558833     8129     170969            1\n",
       "\n",
       "[7558834 rows x 3 columns]"
      ]
     },
     "execution_count": 4,
     "metadata": {},
     "output_type": "execute_result"
    }
   ],
   "source": [
    "df = df[[\"user_id\",\"media_idx\",\"is_listened\"]]\n",
    "df"
   ]
  },
  {
   "cell_type": "markdown",
   "metadata": {},
   "source": [
    "## 1.1 Creating smaller DataFrame for modeling"
   ]
  },
  {
   "cell_type": "code",
   "execution_count": 5,
   "metadata": {},
   "outputs": [],
   "source": [
    "from collections import Counter"
   ]
  },
  {
   "cell_type": "code",
   "execution_count": 6,
   "metadata": {},
   "outputs": [
    {
     "name": "stdout",
     "output_type": "stream",
     "text": [
      "original dataframe size: 7558834\n"
     ]
    }
   ],
   "source": [
    "print(\"original dataframe size:\", len(df))"
   ]
  },
  {
   "cell_type": "code",
   "execution_count": 7,
   "metadata": {},
   "outputs": [
    {
     "data": {
      "text/html": [
       "<div>\n",
       "<style scoped>\n",
       "    .dataframe tbody tr th:only-of-type {\n",
       "        vertical-align: middle;\n",
       "    }\n",
       "\n",
       "    .dataframe tbody tr th {\n",
       "        vertical-align: top;\n",
       "    }\n",
       "\n",
       "    .dataframe thead th {\n",
       "        text-align: right;\n",
       "    }\n",
       "</style>\n",
       "<table border=\"1\" class=\"dataframe\">\n",
       "  <thead>\n",
       "    <tr style=\"text-align: right;\">\n",
       "      <th></th>\n",
       "      <th>user_id</th>\n",
       "      <th>media_idx</th>\n",
       "      <th>is_listened</th>\n",
       "    </tr>\n",
       "  </thead>\n",
       "  <tbody>\n",
       "    <tr>\n",
       "      <th>31026</th>\n",
       "      <td>815</td>\n",
       "      <td>283668</td>\n",
       "      <td>1</td>\n",
       "    </tr>\n",
       "    <tr>\n",
       "      <th>31027</th>\n",
       "      <td>815</td>\n",
       "      <td>283668</td>\n",
       "      <td>1</td>\n",
       "    </tr>\n",
       "    <tr>\n",
       "      <th>31028</th>\n",
       "      <td>815</td>\n",
       "      <td>283668</td>\n",
       "      <td>1</td>\n",
       "    </tr>\n",
       "    <tr>\n",
       "      <th>31029</th>\n",
       "      <td>145</td>\n",
       "      <td>283668</td>\n",
       "      <td>0</td>\n",
       "    </tr>\n",
       "    <tr>\n",
       "      <th>31030</th>\n",
       "      <td>145</td>\n",
       "      <td>283668</td>\n",
       "      <td>0</td>\n",
       "    </tr>\n",
       "    <tr>\n",
       "      <th>...</th>\n",
       "      <td>...</td>\n",
       "      <td>...</td>\n",
       "      <td>...</td>\n",
       "    </tr>\n",
       "    <tr>\n",
       "      <th>7472796</th>\n",
       "      <td>117</td>\n",
       "      <td>337938</td>\n",
       "      <td>0</td>\n",
       "    </tr>\n",
       "    <tr>\n",
       "      <th>7472797</th>\n",
       "      <td>117</td>\n",
       "      <td>337938</td>\n",
       "      <td>0</td>\n",
       "    </tr>\n",
       "    <tr>\n",
       "      <th>7472800</th>\n",
       "      <td>719</td>\n",
       "      <td>337938</td>\n",
       "      <td>1</td>\n",
       "    </tr>\n",
       "    <tr>\n",
       "      <th>7472802</th>\n",
       "      <td>210</td>\n",
       "      <td>337938</td>\n",
       "      <td>0</td>\n",
       "    </tr>\n",
       "    <tr>\n",
       "      <th>7472812</th>\n",
       "      <td>916</td>\n",
       "      <td>337938</td>\n",
       "      <td>0</td>\n",
       "    </tr>\n",
       "  </tbody>\n",
       "</table>\n",
       "<p>237012 rows × 3 columns</p>\n",
       "</div>"
      ],
      "text/plain": [
       "         user_id  media_idx  is_listened\n",
       "31026        815     283668            1\n",
       "31027        815     283668            1\n",
       "31028        815     283668            1\n",
       "31029        145     283668            0\n",
       "31030        145     283668            0\n",
       "...          ...        ...          ...\n",
       "7472796      117     337938            0\n",
       "7472797      117     337938            0\n",
       "7472800      719     337938            1\n",
       "7472802      210     337938            0\n",
       "7472812      916     337938            0\n",
       "\n",
       "[237012 rows x 3 columns]"
      ]
     },
     "execution_count": 7,
     "metadata": {},
     "output_type": "execute_result"
    }
   ],
   "source": [
    "N = len(df[\"user_id\"].unique()) # Number of users\n",
    "M = len(df[\"media_idx\"].unique()) # Number of medias\n",
    "\n",
    "# counts the number of appearances and returns a dictionary\n",
    "user_ids_count = Counter(df[\"user_id\"])\n",
    "media_ids_count = Counter(df[\"media_idx\"])\n",
    "\n",
    "# number of users and media we would like to keep\n",
    "n = 1000\n",
    "m = 200\n",
    "\n",
    "user_ids = [u for u, c in user_ids_count.most_common(n)]\n",
    "media_ids = [m for m, c in media_ids_count.most_common(m)]\n",
    "\n",
    "# make a copy, otherwise ids won't be overwritten\n",
    "df_small = df[df[\"user_id\"].isin(user_ids) & df[\"media_idx\"].isin(media_ids)].copy()\n",
    "df_small"
   ]
  },
  {
   "cell_type": "code",
   "execution_count": 8,
   "metadata": {},
   "outputs": [
    {
     "name": "stdout",
     "output_type": "stream",
     "text": [
      "i: 1000\n",
      "j: 200\n",
      "Setting new ids\n",
      "max user id: 999\n",
      "max movie id: 199\n",
      "small dataframe size: 237012\n"
     ]
    }
   ],
   "source": [
    "# need to remake user ids and media ids since they are no longer sequential\n",
    "new_user_id_map = {}\n",
    "i = 0\n",
    "for old in user_ids:\n",
    "    new_user_id_map[old] = i\n",
    "    i += 1\n",
    "print(\"i:\", i)\n",
    "\n",
    "new_media_id_map = {}\n",
    "j = 0\n",
    "for old in media_ids:\n",
    "    new_media_id_map[old] = j\n",
    "    j += 1\n",
    "print(\"j:\", j)\n",
    "\n",
    "print(\"Setting new ids\")\n",
    "df_small.loc[:, \"user_id\"] = df_small.apply(lambda row: new_user_id_map[row[\"user_id\"]], axis=1)\n",
    "df_small.loc[:, \"media_idx\"] = df_small.apply(lambda row: new_media_id_map[row[\"media_idx\"]], axis=1)\n",
    "\n",
    "print(\"max user id:\", df_small[\"user_id\"].max())\n",
    "print(\"max movie id:\", df_small[\"media_idx\"].max())\n",
    "\n",
    "print(\"small dataframe size:\", len(df_small))"
   ]
  },
  {
   "cell_type": "code",
   "execution_count": 9,
   "metadata": {},
   "outputs": [],
   "source": [
    "df_small.to_csv(\"./train_small.csv\",sep = \";\", index = False)"
   ]
  },
  {
   "cell_type": "markdown",
   "metadata": {},
   "source": [
    "# 2. Surprise - Building a Recommender system"
   ]
  },
  {
   "cell_type": "code",
   "execution_count": 10,
   "metadata": {},
   "outputs": [],
   "source": [
    "import pandas as pd\n",
    "\n",
    "from surprise import NormalPredictor\n",
    "from surprise import Dataset\n",
    "from surprise import Reader\n",
    "from surprise.model_selection import cross_validate"
   ]
  },
  {
   "cell_type": "code",
   "execution_count": 11,
   "metadata": {},
   "outputs": [],
   "source": [
    "# Using df_small for testing/modeling\n",
    "df = df_small.copy() # deleting this when using the whole dataset\n",
    "\n",
    "reader = Reader(line_format = \"user item rating\", rating_scale=(0, 1))\n",
    "rec_data = Dataset.load_from_df(df, reader)"
   ]
  },
  {
   "cell_type": "markdown",
   "metadata": {},
   "source": [
    "## 2.1 User-based collaborative filtering"
   ]
  },
  {
   "cell_type": "code",
   "execution_count": 12,
   "metadata": {},
   "outputs": [
    {
     "name": "stderr",
     "output_type": "stream",
     "text": [
      "/Users/Tom/opt/anaconda3/lib/python3.8/site-packages/surprise/prediction_algorithms/algo_base.py:249: RuntimeWarning: invalid value encountered in double_scalars\n",
      "  sim = construction_func[name](*args)\n"
     ]
    },
    {
     "name": "stdout",
     "output_type": "stream",
     "text": [
      "For user 25 the top 10 recommended music tracks are:\n",
      "MediaID 105: 19.3313340510547\n",
      "MediaID 54: 15.827550460527974\n",
      "MediaID 31: 15.802519921709063\n",
      "MediaID 1: 13.290290263366419\n",
      "MediaID 66: 12.871191481047703\n",
      "MediaID 35: 12.836715663642268\n",
      "MediaID 177: 12.709357057813037\n",
      "MediaID 186: 11.935755957818323\n",
      "MediaID 8: 11.28119457617207\n",
      "MediaID 182: 11.011691714690691\n",
      "MediaID 21: 10.851500857824442\n"
     ]
    }
   ],
   "source": [
    "from surprise import KNNBasic\n",
    "import heapq\n",
    "from collections import defaultdict\n",
    "from operator import itemgetter\n",
    "\n",
    "testSubject = 25 # User example\n",
    "k = 30\n",
    "\n",
    "trainSet = rec_data.build_full_trainset()\n",
    "\n",
    "sim_options_user = {\"name\": \"cosine\",\n",
    "                    \"user_based\": True}\n",
    "\n",
    "model = KNNBasic(sim_options=sim_options_user, verbose=False)\n",
    "model.fit(trainSet)\n",
    "simsMatrix = model.compute_similarities()\n",
    "\n",
    "# Get top N similar users to our test subject\n",
    "# (Alternate approach would be to select users up to some similarity threshold - try it!)\n",
    "testUserInnerID = trainSet.to_inner_uid(testSubject)\n",
    "similarityRow = simsMatrix[testUserInnerID]\n",
    "\n",
    "similarUsers = []\n",
    "for innerID, score in enumerate(similarityRow):\n",
    "    if (innerID != testUserInnerID):\n",
    "        similarUsers.append((innerID, score))\n",
    "        \n",
    "# drop similarity scores corresponsing to np.nan\n",
    "similarUsers_new = []\n",
    "for i in similarUsers:\n",
    "    if np.isnan(i[1]):\n",
    "        continue\n",
    "    else:\n",
    "        similarUsers_new.append(i)\n",
    "        \n",
    "kNeighbors = heapq.nlargest(k, similarUsers_new, key=lambda t: t[1])\n",
    "\n",
    "# Get the stuff they rated, and add up ratings for each item, weighted by user similarity\n",
    "candidates = defaultdict(float)\n",
    "for similarUser in kNeighbors:\n",
    "    innerID = similarUser[0]\n",
    "    userSimilarityScore = similarUser[1]\n",
    "    theirRatings = trainSet.ur[innerID]\n",
    "    for rating in theirRatings:\n",
    "        candidates[rating[0]] += (rating[1] / 5.0) * userSimilarityScore\n",
    "\n",
    "# Build a dictionary of stuff the user has already listened to\n",
    "listened = {}\n",
    "for itemID, rating in trainSet.ur[testUserInnerID]:\n",
    "    listened[itemID] = 1\n",
    "    \n",
    "# Get top-rated items from similar users:\n",
    "print(f\"For user {testSubject} the top 10 recommended music tracks are:\")\n",
    "pos = 0\n",
    "for itemID, ratingSum in sorted(candidates.items(), key=itemgetter(1), reverse=True):\n",
    "    if not itemID in listened:\n",
    "        mediaID = trainSet.to_raw_iid(itemID)\n",
    "        #print(ml.getMovieName(int(movieID)), ratingSum)\n",
    "        print(f\"MediaID {mediaID}: {ratingSum}\")\n",
    "        pos += 1\n",
    "        if (pos > 10):\n",
    "            break"
   ]
  },
  {
   "cell_type": "code",
   "execution_count": 13,
   "metadata": {},
   "outputs": [
    {
     "name": "stdout",
     "output_type": "stream",
     "text": [
      "RMSE: 0.4606\n",
      "RMSE: 0.4592\n",
      "RMSE: 0.4587\n"
     ]
    }
   ],
   "source": [
    "from surprise import KNNBasic\n",
    "from surprise import accuracy\n",
    "from surprise.model_selection import KFold\n",
    "\n",
    "# define a cross-validation iterator\n",
    "kf = KFold(n_splits=3)\n",
    "\n",
    "algo = KNNBasic(sim_options=sim_options_user, verbose=False)\n",
    "\n",
    "for trainset, testset in kf.split(rec_data):\n",
    "\n",
    "    # train and test algorithm.\n",
    "    algo.fit(trainset)\n",
    "    predictions = algo.test(testset)\n",
    "\n",
    "    # Compute and print Root Mean Squared Error\n",
    "    accuracy.rmse(predictions, verbose=True)"
   ]
  },
  {
   "cell_type": "markdown",
   "metadata": {},
   "source": [
    "## 2.2 Item-based collaborative filtering"
   ]
  },
  {
   "cell_type": "code",
   "execution_count": 14,
   "metadata": {},
   "outputs": [
    {
     "name": "stdout",
     "output_type": "stream",
     "text": [
      "For user 85 the top 10 recommended music tracks are:\n",
      "MediaID 2: 129.00000000000122\n",
      "MediaID 37: 121.80000000000119\n",
      "MediaID 22: 117.80000000000113\n",
      "MediaID 16: 113.40000000000107\n",
      "MediaID 60: 95.20000000000081\n",
      "MediaID 38: 93.8000000000008\n",
      "MediaID 50: 79.8000000000006\n",
      "MediaID 123: 72.8000000000005\n",
      "MediaID 93: 54.600000000000236\n",
      "MediaID 3: 51.40000000000019\n",
      "MediaID 57: 36.39999999999998\n"
     ]
    }
   ],
   "source": [
    "from surprise import KNNBasic\n",
    "import heapq\n",
    "from collections import defaultdict\n",
    "from operator import itemgetter\n",
    "\n",
    "testSubject = 85 \n",
    "k = 10\n",
    "\n",
    "trainSet = rec_data.build_full_trainset()\n",
    "\n",
    "sim_options_item = {\"name\": \"cosine\",\n",
    "                    \"user_based\": False}\n",
    "\n",
    "model = KNNBasic(sim_options=sim_options_item, verbose=False)\n",
    "model.fit(trainSet)\n",
    "simsMatrix = model.compute_similarities()\n",
    "\n",
    "testUserInnerID = trainSet.to_inner_uid(testSubject)\n",
    "\n",
    "# Get the top K items we rated\n",
    "testUserRatings = trainSet.ur[testUserInnerID]\n",
    "kNeighbors = heapq.nlargest(k, testUserRatings, key=lambda t: t[1])\n",
    "\n",
    "# Get the stuff they rated, and add up ratings for each item, weighted by user similarity\n",
    "candidates = defaultdict(float)\n",
    "for similarUser in kNeighbors:\n",
    "    innerID = similarUser[0]\n",
    "    userSimilarityScore = similarUser[1]\n",
    "    theirRatings = trainSet.ur[innerID]\n",
    "    for rating in theirRatings:\n",
    "        candidates[rating[0]] += (rating[1] / 5.0)\n",
    "\n",
    "# Build a dictionary of stuff the user has already listened to\n",
    "listened = {}\n",
    "for itemID, rating in trainSet.ur[testUserInnerID]:\n",
    "    listened[itemID] = 1\n",
    "    \n",
    "# Get top-rated items from similar users:\n",
    "print(f\"For user {testSubject} the top 10 recommended music tracks are:\")\n",
    "pos = 0\n",
    "for itemID, ratingSum in sorted(candidates.items(), key=itemgetter(1), reverse=True):\n",
    "    if not itemID in listened:\n",
    "        mediaID = trainSet.to_raw_iid(itemID)\n",
    "        #print(ml.getMovieName(int(movieID)), ratingSum)\n",
    "        print(f\"MediaID {mediaID}: {ratingSum}\")\n",
    "        pos += 1\n",
    "        if (pos > 10):\n",
    "            break"
   ]
  },
  {
   "cell_type": "code",
   "execution_count": 15,
   "metadata": {},
   "outputs": [
    {
     "name": "stdout",
     "output_type": "stream",
     "text": [
      "RMSE: 0.3953\n",
      "RMSE: 0.3959\n",
      "RMSE: 0.3959\n"
     ]
    }
   ],
   "source": [
    "from surprise import KNNBasic\n",
    "from surprise import accuracy\n",
    "from surprise.model_selection import KFold\n",
    "\n",
    "# define a cross-validation iterator\n",
    "kf = KFold(n_splits=3)\n",
    "\n",
    "algo = KNNBasic(sim_options=sim_options_item, verbose=False)\n",
    "\n",
    "for trainset, testset in kf.split(rec_data):\n",
    "\n",
    "    # train and test algorithm.\n",
    "    algo.fit(trainset)\n",
    "    predictions = algo.test(testset)\n",
    "\n",
    "    # Compute and print Root Mean Squared Error\n",
    "    accuracy.rmse(predictions, verbose=True)"
   ]
  },
  {
   "cell_type": "markdown",
   "metadata": {},
   "source": [
    "## 2.3 Matrix Factorization"
   ]
  },
  {
   "cell_type": "code",
   "execution_count": 16,
   "metadata": {},
   "outputs": [
    {
     "name": "stdout",
     "output_type": "stream",
     "text": [
      "For user 85 the top 10 recommended music tracks are:\n",
      "MediaID 2: 129.00000000000122\n",
      "MediaID 37: 121.80000000000119\n",
      "MediaID 22: 117.80000000000113\n",
      "MediaID 16: 113.40000000000107\n",
      "MediaID 60: 95.20000000000081\n",
      "MediaID 38: 93.8000000000008\n",
      "MediaID 50: 79.8000000000006\n",
      "MediaID 123: 72.8000000000005\n",
      "MediaID 93: 54.600000000000236\n",
      "MediaID 3: 51.40000000000019\n",
      "MediaID 57: 36.39999999999998\n"
     ]
    }
   ],
   "source": [
    "from surprise import SVD\n",
    "import heapq\n",
    "from collections import defaultdict\n",
    "from operator import itemgetter\n",
    "\n",
    "testSubject = 85 \n",
    "k = 10\n",
    "\n",
    "trainSet = rec_data.build_full_trainset()\n",
    "\n",
    "model = SVD()\n",
    "model.fit(trainSet)\n",
    "simsMatrix = model.compute_similarities()\n",
    "\n",
    "testUserInnerID = trainSet.to_inner_uid(testSubject)\n",
    "\n",
    "# Get the top K items we rated\n",
    "testUserRatings = trainSet.ur[testUserInnerID]\n",
    "kNeighbors = heapq.nlargest(k, testUserRatings, key=lambda t: t[1])\n",
    "\n",
    "# Get the stuff they rated, and add up ratings for each item, weighted by user similarity\n",
    "candidates = defaultdict(float)\n",
    "for similarUser in kNeighbors:\n",
    "    innerID = similarUser[0]\n",
    "    userSimilarityScore = similarUser[1]\n",
    "    theirRatings = trainSet.ur[innerID]\n",
    "    for rating in theirRatings:\n",
    "        candidates[rating[0]] += (rating[1] / 5.0)\n",
    "\n",
    "# Build a dictionary of stuff the user has already listened to\n",
    "listened = {}\n",
    "for itemID, rating in trainSet.ur[testUserInnerID]:\n",
    "    listened[itemID] = 1\n",
    "    \n",
    "# Get top-rated items from similar users:\n",
    "print(f\"For user {testSubject} the top 10 recommended music tracks are:\")\n",
    "pos = 0\n",
    "for itemID, ratingSum in sorted(candidates.items(), key=itemgetter(1), reverse=True):\n",
    "    if not itemID in listened:\n",
    "        mediaID = trainSet.to_raw_iid(itemID)\n",
    "        #print(ml.getMovieName(int(movieID)), ratingSum)\n",
    "        print(f\"MediaID {mediaID}: {ratingSum}\")\n",
    "        pos += 1\n",
    "        if (pos > 10):\n",
    "            break"
   ]
  },
  {
   "cell_type": "code",
   "execution_count": 17,
   "metadata": {},
   "outputs": [
    {
     "name": "stdout",
     "output_type": "stream",
     "text": [
      "RMSE: 0.3882\n",
      "RMSE: 0.3889\n",
      "RMSE: 0.3875\n"
     ]
    }
   ],
   "source": [
    "from surprise import SVD\n",
    "from surprise import accuracy\n",
    "from surprise.model_selection import KFold\n",
    "\n",
    "# define a cross-validation iterator\n",
    "kf = KFold(n_splits=3)\n",
    "\n",
    "algo = SVD()\n",
    "\n",
    "for trainset, testset in kf.split(rec_data):\n",
    "\n",
    "    # train and test algorithm.\n",
    "    algo.fit(trainset)\n",
    "    predictions = algo.test(testset)\n",
    "\n",
    "    # Compute and print Root Mean Squared Error\n",
    "    accuracy.rmse(predictions, verbose=True)"
   ]
  },
  {
   "cell_type": "markdown",
   "metadata": {},
   "source": [
    "# 4. Performance evaluation\n",
    "\n",
    "## 4.1 RMSE"
   ]
  },
  {
   "cell_type": "code",
   "execution_count": 18,
   "metadata": {},
   "outputs": [
    {
     "data": {
      "text/html": [
       "<div>\n",
       "<style scoped>\n",
       "    .dataframe tbody tr th:only-of-type {\n",
       "        vertical-align: middle;\n",
       "    }\n",
       "\n",
       "    .dataframe tbody tr th {\n",
       "        vertical-align: top;\n",
       "    }\n",
       "\n",
       "    .dataframe thead th {\n",
       "        text-align: right;\n",
       "    }\n",
       "</style>\n",
       "<table border=\"1\" class=\"dataframe\">\n",
       "  <thead>\n",
       "    <tr style=\"text-align: right;\">\n",
       "      <th></th>\n",
       "      <th>test_rmse</th>\n",
       "      <th>test_mae</th>\n",
       "      <th>fit_time</th>\n",
       "      <th>test_time</th>\n",
       "    </tr>\n",
       "    <tr>\n",
       "      <th>Algorithm</th>\n",
       "      <th></th>\n",
       "      <th></th>\n",
       "      <th></th>\n",
       "      <th></th>\n",
       "    </tr>\n",
       "  </thead>\n",
       "  <tbody>\n",
       "    <tr>\n",
       "      <th>SVD</th>\n",
       "      <td>0.390586</td>\n",
       "      <td>0.309130</td>\n",
       "      <td>7.677527</td>\n",
       "      <td>1.099856</td>\n",
       "    </tr>\n",
       "    <tr>\n",
       "      <th>KNNBasicItem</th>\n",
       "      <td>0.396591</td>\n",
       "      <td>0.298366</td>\n",
       "      <td>0.643239</td>\n",
       "      <td>24.386223</td>\n",
       "    </tr>\n",
       "    <tr>\n",
       "      <th>KNNBasicUser</th>\n",
       "      <td>0.461765</td>\n",
       "      <td>0.304743</td>\n",
       "      <td>3.400009</td>\n",
       "      <td>60.662251</td>\n",
       "    </tr>\n",
       "    <tr>\n",
       "      <th>NormalPredictor</th>\n",
       "      <td>0.574786</td>\n",
       "      <td>0.450925</td>\n",
       "      <td>0.188720</td>\n",
       "      <td>0.741632</td>\n",
       "    </tr>\n",
       "  </tbody>\n",
       "</table>\n",
       "</div>"
      ],
      "text/plain": [
       "                 test_rmse  test_mae  fit_time  test_time\n",
       "Algorithm                                                \n",
       "SVD               0.390586  0.309130  7.677527   1.099856\n",
       "KNNBasicItem      0.396591  0.298366  0.643239  24.386223\n",
       "KNNBasicUser      0.461765  0.304743  3.400009  60.662251\n",
       "NormalPredictor   0.574786  0.450925  0.188720   0.741632"
      ]
     },
     "execution_count": 18,
     "metadata": {},
     "output_type": "execute_result"
    }
   ],
   "source": [
    "benchmark = []\n",
    "\n",
    "suffix = [\"\",\"User\",\"Item\",\"\"]\n",
    "counter = 0\n",
    "\n",
    "for algorithm in [NormalPredictor(), KNNBasic(sim_options=sim_options_user, verbose=False),\n",
    "                  KNNBasic(sim_options=sim_options_item, verbose=False), SVD()]:\n",
    "    # Perform cross-validation\n",
    "    results = cross_validate(algorithm, rec_data, cv=2)\n",
    "    \n",
    "    # Get results\n",
    "    tmp = pd.DataFrame.from_dict(results).mean(axis=0)\n",
    "    tmp = tmp.append(pd.Series([str(algorithm).split(' ')[0].split('.')[-1] + suffix[counter]], index=[\"Algorithm\"]))\n",
    "    benchmark.append(tmp)\n",
    "    counter += 1\n",
    "    \n",
    "pd.DataFrame(benchmark).set_index(\"Algorithm\").sort_values(\"test_rmse\")"
   ]
  },
  {
   "cell_type": "markdown",
   "metadata": {},
   "source": [
    "## 4.2 ROC Curve"
   ]
  },
  {
   "cell_type": "code",
   "execution_count": 19,
   "metadata": {},
   "outputs": [],
   "source": [
    "from surprise.model_selection import train_test_split\n",
    "import matplotlib.pyplot as plt\n",
    "from sklearn.metrics import roc_auc_score, roc_curve"
   ]
  },
  {
   "cell_type": "code",
   "execution_count": 20,
   "metadata": {},
   "outputs": [
    {
     "name": "stdout",
     "output_type": "stream",
     "text": [
      "Testing different algorithms and calculating their predictions...\n"
     ]
    },
    {
     "name": "stderr",
     "output_type": "stream",
     "text": [
      "/Users/Tom/opt/anaconda3/lib/python3.8/site-packages/surprise/prediction_algorithms/algo_base.py:249: RuntimeWarning: invalid value encountered in double_scalars\n",
      "  sim = construction_func[name](*args)\n"
     ]
    },
    {
     "name": "stdout",
     "output_type": "stream",
     "text": [
      "Predictions for all algorithms have been finished and stored in 'results'-dictionary.\n"
     ]
    }
   ],
   "source": [
    "algo = {\"NP\": NormalPredictor(), \"KNNUser\": KNNBasic(sim_options=sim_options_user, verbose=False),\n",
    "        \"KNNItem\": KNNBasic(sim_options=sim_options_item, verbose=False), \"SVD\": SVD()}\n",
    "\n",
    "# test set is made of 25% of the ratings.\n",
    "trainset, testset = train_test_split(rec_data, test_size=.25)\n",
    "\n",
    "print(\"Testing different algorithms and calculating their predictions...\")\n",
    "\n",
    "results = {}\n",
    "    \n",
    "for algorithm in algo:\n",
    "    \n",
    "    model = algo[algorithm]\n",
    "    \n",
    "    # Train the algorithm on the trainset, and predict ratings for the testset\n",
    "    model.fit(trainset)\n",
    "    predictions = model.test(testset)\n",
    "\n",
    "    # extract 'true values' and 'estimates' from results\n",
    "    true_values = []\n",
    "    est = []\n",
    "    for i in predictions:\n",
    "        true_values.append(i[2])\n",
    "        est.append(i[3])\n",
    "    \n",
    "    # save 'true values' and 'estimates' into dictionary\n",
    "    results[algorithm] = {\"true_values\": true_values, \"est\": est}\n",
    "\n",
    "print(\"Predictions for all algorithms have been finished and stored in 'results'-dictionary.\")\n",
    "    \n",
    "    \n",
    "#pd.DataFrame(benchmark).set_index(\"Algorithm\").sort_values(\"test_rmse\")"
   ]
  },
  {
   "cell_type": "code",
   "execution_count": 21,
   "metadata": {},
   "outputs": [
    {
     "name": "stdout",
     "output_type": "stream",
     "text": [
      "NP: 59253\n",
      "KNNUser: 59253\n",
      "KNNItem: 59253\n",
      "SVD: 59253\n"
     ]
    }
   ],
   "source": [
    "# validate whether all arrays are the same length for ROC calculation\n",
    "for i in results:\n",
    "    length = len(results[i][\"true_values\"])\n",
    "    print(f\"{i}: {length}\")"
   ]
  },
  {
   "cell_type": "code",
   "execution_count": 22,
   "metadata": {},
   "outputs": [
    {
     "name": "stdout",
     "output_type": "stream",
     "text": [
      "NP: ROC AUC=0.49887735676461364\n",
      "KNNUser: ROC AUC=0.7833576374042812\n",
      "KNNItem: ROC AUC=0.8194332593515502\n",
      "SVD: ROC AUC=0.8314415610844359\n"
     ]
    },
    {
     "data": {
      "image/png": "[encoded data removed]",
      "text/plain": [
       "<Figure size 432x288 with 1 Axes>"
      ]
     },
     "metadata": {
      "needs_background": "light"
     },
     "output_type": "display_data"
    }
   ],
   "source": [
    "# ROC Function\n",
    "def plot_roc_curve(Y_test, model_probs, model):\n",
    "    \n",
    "    random_probs = [0 for _ in range(len(Y_test))]\n",
    "    \n",
    "    # calculate AUC\n",
    "    model_auc = roc_auc_score(Y_test, model_probs)\n",
    "    \n",
    "    # summarize score\n",
    "    print(f\"{model}: ROC AUC={model_auc}\")\n",
    "    \n",
    "    # calculate ROC Curve\n",
    "    # For the actual model\n",
    "    model_fpr, model_tpr, _ = roc_curve(Y_test, model_probs)\n",
    "    \n",
    "    # Plot the roc curve for the model and the random model line\n",
    "    plt.plot(model_fpr, model_tpr, marker=\".\", label=model)\n",
    "    \n",
    "\n",
    "    \n",
    "# calculate ROC Curve\n",
    "# For the Random Model\n",
    "true_values = results[\"NP\"][\"true_values\"]\n",
    "random_probs = [0 for _ in range(len(true_values))]\n",
    "random_fpr, random_tpr, _ = roc_curve(true_values, random_probs)\n",
    "\n",
    "# Plot the roc curve for the random model line\n",
    "plt.plot(random_fpr, random_tpr, linestyle=\"--\", label=\"Random\")\n",
    "\n",
    "# Plot the roc curve for the model and the random model line\n",
    "for i in results:\n",
    "    true_values = results[i][\"true_values\"]\n",
    "    est = results[i][\"est\"]\n",
    "    plot_roc_curve(true_values, est, i)\n",
    "\n",
    "# Create labels for the axis\n",
    "plt.xlabel('False Positive Rate')\n",
    "plt.ylabel('True Positive Rate')\n",
    "    \n",
    "# show the legend\n",
    "plt.legend()\n",
    "    \n",
    "# show the plot\n",
    "plt.show()"
   ]
  }
 ],
 "metadata": {
  "kernelspec": {
   "display_name": "Python 3",
   "language": "python",
   "name": "python3"
  },
  "language_info": {
   "codemirror_mode": {
    "name": "ipython",
    "version": 3
   },
   "file_extension": ".py",
   "mimetype": "text/x-python",
   "name": "python",
   "nbconvert_exporter": "python",
   "pygments_lexer": "ipython3",
   "version": "3.8.5"
  }
 },
 "nbformat": 4,
 "nbformat_minor": 4
}
